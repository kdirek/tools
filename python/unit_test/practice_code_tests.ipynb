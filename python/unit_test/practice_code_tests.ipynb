{
 "cells": [
  {
   "cell_type": "code",
   "execution_count": 2,
   "metadata": {},
   "outputs": [],
   "source": [
    "import unittest\n",
    "import re"
   ]
  },
  {
   "cell_type": "markdown",
   "metadata": {},
   "source": [
    "### ICD-10/OPCS-4"
   ]
  },
  {
   "cell_type": "code",
   "execution_count": 9,
   "metadata": {},
   "outputs": [],
   "source": [
    "class Test_OPCS4(unittest.TestCase):\n",
    "    def test_pos1_char(self):\n",
    "        '''\n",
    "        First position of string is a character\n",
    "        '''\n",
    "        string = 'A01'\n",
    "        self.assertTrue(string[0].isalpha())\n",
    "        \n",
    "    def test_pos4_period(self):\n",
    "        '''\n",
    "        Fourth position of string is a period\n",
    "        '''\n",
    "        string = 'A01.1'\n",
    "        \n",
    "        "
   ]
  },
  {
   "cell_type": "code",
   "execution_count": 30,
   "metadata": {},
   "outputs": [
    {
     "data": {
      "text/plain": [
       "'A01.'"
      ]
     },
     "execution_count": 30,
     "metadata": {},
     "output_type": "execute_result"
    }
   ],
   "source": [
    "test = \"A01.\"\n",
    "match_obj = re.match(r'[A-Z]{1}\\d{2}\\.', test)\n",
    "match_obj.group(0)"
   ]
  },
  {
   "cell_type": "code",
   "execution_count": 35,
   "metadata": {},
   "outputs": [],
   "source": [
    "# spiros\n",
    "\n",
    "def is_valid_icd(icd):\n",
    "    r = re.compile(r'[A-Z]{1}\\d{2}\\.')\n",
    "    if r.match(icd) == None:\n",
    "        return False\n",
    "    else:\n",
    "        return True\n",
    "\n",
    "assert is_valid_icd('C10') == False\n",
    "assert is_valid_icd('C12.') == True"
   ]
  },
  {
   "cell_type": "code",
   "execution_count": null,
   "metadata": {},
   "outputs": [],
   "source": []
  }
 ],
 "metadata": {
  "kernelspec": {
   "display_name": "Python 3",
   "language": "python",
   "name": "python3"
  },
  "language_info": {
   "codemirror_mode": {
    "name": "ipython",
    "version": 3
   },
   "file_extension": ".py",
   "mimetype": "text/x-python",
   "name": "python",
   "nbconvert_exporter": "python",
   "pygments_lexer": "ipython3",
   "version": "3.7.0"
  }
 },
 "nbformat": 4,
 "nbformat_minor": 2
}
