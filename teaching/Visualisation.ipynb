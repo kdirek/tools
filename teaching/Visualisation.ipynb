{
 "cells": [
  {
   "cell_type": "markdown",
   "metadata": {},
   "source": [
    "\n",
    "# *Visualisation*\n"
   ]
  },
  {
   "cell_type": "code",
   "execution_count": null,
   "metadata": {
    "collapsed": true
   },
   "outputs": [],
   "source": [
    "Why do we need to see the the data?"
   ]
  },
  {
   "cell_type": "code",
   "execution_count": null,
   "metadata": {
    "collapsed": true
   },
   "outputs": [],
   "source": [
    "Just need a image for the report, right? - No!"
   ]
  },
  {
   "cell_type": "code",
   "execution_count": null,
   "metadata": {
    "collapsed": true
   },
   "outputs": [],
   "source": [
    "You cannot even begin to analyse your data without seeing it. This is not Excel, there are no excuses."
   ]
  },
  {
   "cell_type": "code",
   "execution_count": null,
   "metadata": {
    "collapsed": true
   },
   "outputs": [],
   "source": [
    "We take the famous example first described by [Francis Anscombe in 1973](http://www.sjsu.edu/faculty/gerstman/StatPrimer/anscombe1973.pdf)"
   ]
  },
  {
   "cell_type": "code",
   "execution_count": null,
   "metadata": {
    "collapsed": true
   },
   "outputs": [],
   "source": [
    "First we check the summary statistics"
   ]
  },
  {
   "cell_type": "code",
   "execution_count": null,
   "metadata": {
    "collapsed": true
   },
   "outputs": [],
   "source": [
    "data(\"anscombe\")"
   ]
  },
  {
   "cell_type": "code",
   "execution_count": null,
   "metadata": {
    "collapsed": true
   },
   "outputs": [],
   "source": [
    "for(i in 1:4){\n",
    "  tmp <- list(c(\n",
    "         mean_x1 = mean(anscombe[,paste0(\"x\",i)]), mean_y1 = mean(anscombe[,paste0(\"y\",i)]), \n",
    "         var_x1 = var(anscombe[,paste0(\"x\",i)]), var_y1 = var(anscombe[,paste0(\"y\",i)]),\n",
    "         cor_xy = cor(anscombe[,paste0(\"x\",i)], anscombe[,paste0(\"y\",i)]),\n",
    "         intercept = as.numeric(lm(anscombe[,paste0(\"y\",i)] ~ anscombe[,paste0(\"x\",i)])$coef[1]),\n",
    "         beta_x = as.numeric(lm(anscombe[,paste0(\"y\",i)] ~ anscombe[,paste0(\"x\",i)])$coef[2])\n",
    "      )\n",
    "    )\n",
    "names(tmp) <- paste0(\"dataset:\", i)\n",
    "print(tmp)\n",
    "}"
   ]
  },
  {
   "cell_type": "code",
   "execution_count": null,
   "metadata": {
    "collapsed": true
   },
   "outputs": [],
   "source": [
    "All four datasets look identical, but - "
   ]
  },
  {
   "cell_type": "code",
   "execution_count": null,
   "metadata": {
    "collapsed": true
   },
   "outputs": [],
   "source": [
    "par(mfrow=c(2,2)) # we tell R to make space for four plots - two in the first row and two in the second"
   ]
  },
  {
   "cell_type": "code",
   "execution_count": null,
   "metadata": {
    "collapsed": true
   },
   "outputs": [],
   "source": [
    "for(i in 1:4){\n",
    "\n",
    "  plot(anscombe[,paste0(\"x\",i)], anscombe[,paste0(\"y\",i)], ylim = c(0,20), xlim = c(0,20), ylab = paste0(\"y\",i), xlab = paste0(\"x\", i))\n",
    "  \n",
    "  abline(lm(anscombe[,paste0(\"x\",i)] ~ anscombe[,paste0(\"y\",i)]))\n",
    "\n",
    "  }"
   ]
  },
  {
   "cell_type": "code",
   "execution_count": null,
   "metadata": {
    "collapsed": true
   },
   "outputs": [],
   "source": [
    "\n",
    "## Base Graphics\n"
   ]
  },
  {
   "cell_type": "code",
   "execution_count": null,
   "metadata": {
    "collapsed": true
   },
   "outputs": [],
   "source": [
    "We have seen various types of plots today conveying information on one, two, or mutliple variables. In this section we will explore the vast possibilities available in the base graphics system. Many packages exist that create publication-ready plots, which will cover later, but whilst you in the exploration phase of your data analysis, you will undoubtly find the quick and dirty plots in the base system invaluable.\n"
   ]
  },
  {
   "cell_type": "code",
   "execution_count": null,
   "metadata": {
    "collapsed": true
   },
   "outputs": [],
   "source": [
    "All graphical outputs are defined by high and low-level plotting commands, high level generate the plot and accepts arguements to control the appearence:"
   ]
  },
  {
   "cell_type": "code",
   "execution_count": null,
   "metadata": {
    "collapsed": true
   },
   "outputs": [],
   "source": [
    "plot(1:10, seq(10,100,10))"
   ]
  },
  {
   "cell_type": "code",
   "execution_count": null,
   "metadata": {
    "collapsed": true
   },
   "outputs": [],
   "source": [
    "After a plot has been called, low-level commands allow you to customise the plot:"
   ]
  },
  {
   "cell_type": "code",
   "execution_count": null,
   "metadata": {
    "collapsed": true
   },
   "outputs": [],
   "source": [
    "plot(1:10, seq(10,100,10))\n",
    "text(x = 2, y = 90, \"hello!\")\n",
    "lines(x = c(2.5,8.5), y = rep(90,2))\n",
    "polygon(x = c(8.5,8.9,8.5), y = c(92,90,88))"
   ]
  },
  {
   "cell_type": "code",
   "execution_count": null,
   "metadata": {
    "collapsed": true
   },
   "outputs": [],
   "source": [
    "We will go through each step of creating a good plot that can be applied to any of base graphics."
   ]
  },
  {
   "cell_type": "code",
   "execution_count": null,
   "metadata": {
    "collapsed": true
   },
   "outputs": [],
   "source": [
    "plot(blood.pressure$diastolic, blood.pressure$systolic)"
   ]
  },
  {
   "cell_type": "code",
   "execution_count": null,
   "metadata": {
    "collapsed": true
   },
   "outputs": [],
   "source": [
    "The first thing that strikes us is that we are missing a title, you can add a title within the plot function itself or a low-level function. To show these are identical we will add a title using both methods and plot them side by side using  the 'par' function"
   ]
  },
  {
   "cell_type": "code",
   "execution_count": null,
   "metadata": {
    "collapsed": true
   },
   "outputs": [],
   "source": [
    "par(mfrow=c(1,2)) \n",
    "plot(blood.pressure$diastolic, blood.pressure$systolic, main = \"Systolic and Diastolic Blood Pressures\")\n",
    "plot(blood.pressure$diastolic, blood.pressure$systolic)\n",
    "title(\"Systolic and Diastolic Blood Pressures\\nLow Level\")"
   ]
  },
  {
   "cell_type": "code",
   "execution_count": null,
   "metadata": {
    "collapsed": true
   },
   "outputs": [],
   "source": [
    "The 'par' function controls every aspect of a plot and not so secretely a list in disguise with all the graphical parameter values (72), which we can see and change to fit our needs"
   ]
  },
  {
   "cell_type": "code",
   "execution_count": null,
   "metadata": {
    "collapsed": true
   },
   "outputs": [],
   "source": [
    "head(par())"
   ]
  },
  {
   "cell_type": "code",
   "execution_count": null,
   "metadata": {
    "collapsed": true
   },
   "outputs": [],
   "source": [
    "Now that we have a title we should tidy up the axis labels, which again can be passed to either high or low-level plotting functions."
   ]
  },
  {
   "cell_type": "code",
   "execution_count": null,
   "metadata": {
    "collapsed": true
   },
   "outputs": [],
   "source": [
    "plot(blood.pressure$diastolic, \n",
    "     blood.pressure$systolic, \n",
    "     main = \"Systolic and Diastolic Blood Pressures\", \n",
    "     ylab = \"Systolic (mmHg)\", \n",
    "     xlab = \"Diastolic (mmHg)\")"
   ]
  },
  {
   "cell_type": "code",
   "execution_count": null,
   "metadata": {
    "collapsed": true
   },
   "outputs": [],
   "source": [
    "What if your title or axis labels contained superscript/subscript characters or symbols? R treats all special characters, such as these and mathematical symbols, as expressions,"
   ]
  },
  {
   "cell_type": "code",
   "execution_count": null,
   "metadata": {
    "collapsed": true
   },
   "outputs": [],
   "source": [
    "plot(x = 1:12, y = (1:12)^2, main = expression(atop(y == x^2, x == sqrt(y))))"
   ]
  },
  {
   "cell_type": "code",
   "execution_count": null,
   "metadata": {
    "collapsed": true
   },
   "outputs": [],
   "source": [
    "Still the plot looks a bit bland we can add colour and change the shape of the plotting symbols.There are 657 colours and 256 plotting symbols to choose from in the base graphics system."
   ]
  },
  {
   "cell_type": "code",
   "execution_count": null,
   "metadata": {
    "collapsed": true
   },
   "outputs": [],
   "source": [
    "par(mfrow=c(1,2)) \n",
    "plot(x = 1:12, y = (1:12)^2, main = expression(atop(y == x^2, x == sqrt(y))),\n",
    "     col = \"blue\")\n",
    "plot(x = 1:12, y = (1:12)^3, main = expression(atop(y == x^3, x == y^over(1,3))),\n",
    "     col = \"red\", pch = 4)"
   ]
  },
  {
   "cell_type": "code",
   "execution_count": null,
   "metadata": {
    "collapsed": true
   },
   "outputs": [],
   "source": [
    "Maybe we are not happy with the limits of the x and y axes or how the axes are labelled:"
   ]
  },
  {
   "cell_type": "code",
   "execution_count": null,
   "metadata": {
    "collapsed": true
   },
   "outputs": [],
   "source": [
    "par(mfrow=c(2,2))"
   ]
  },
  {
   "cell_type": "code",
   "execution_count": null,
   "metadata": {
    "collapsed": true
   },
   "outputs": [],
   "source": [
    "# Standard\n",
    "plot(x = 1:12, y = (1:12)^3, main = \"Standard\",\n",
    "     col = \"red\", pch = 4)"
   ]
  },
  {
   "cell_type": "code",
   "execution_count": null,
   "metadata": {
    "collapsed": true
   },
   "outputs": [],
   "source": [
    "# Axis Limits & Title\n",
    "plot(x = 1:12, y = (1:12)^3, main = \"Y Axis Limits & Title\",\n",
    "     col = \"red\", pch = 4,\n",
    "     ylim = c(0,2e3), xlim = c(0,13),\n",
    "     yaxt=\"n\", ylab = \"\") # don't draw or label the y axis\n",
    "axis(side = 2, las = 1) # add the y axis\n",
    "mtext(side = 2, line = 2.5, cex = 0.8, text = expression(y == x^3))\n"
   ]
  },
  {
   "cell_type": "code",
   "execution_count": null,
   "metadata": {
    "collapsed": true
   },
   "outputs": [],
   "source": [
    "# Axis Labels\n",
    "plot(x = 1:12, y = (1:12)^3, main = \"X Axis Labels\",\n",
    "     col = \"red\", pch = 4,\n",
    "     xaxt=\"n\", xlab = \"\") # don't draw or label the y axis\n",
    "axis(side = 1, las = 2, at = 1:12, cex.axis=0.8, \n",
    "     labels = strftime(paste(sep=\"-\", \"2016\", 1:12, 1), \"%b\")) # add the x axis\n"
   ]
  },
  {
   "cell_type": "code",
   "execution_count": null,
   "metadata": {
    "collapsed": true
   },
   "outputs": [],
   "source": [
    "# Adding curves\n",
    "plot(x = 1:12, y = (1:12)^3, main = \"Fitting a Curve\",\n",
    "     col = \"red\", pch = 4\n",
    ")\n",
    "lines(1:12, (1:12)^3, lty=1,col=\"blue\")"
   ]
  },
  {
   "cell_type": "code",
   "execution_count": null,
   "metadata": {
    "collapsed": true
   },
   "outputs": [],
   "source": [
    "\n",
    "## Grammer of Graphics\n"
   ]
  },
  {
   "cell_type": "code",
   "execution_count": null,
   "metadata": {
    "collapsed": true
   },
   "outputs": [],
   "source": [
    "\n",
    "The [ggplot2](http://docs.ggplot2.org/current) package allows you to create very nice looking plots by\n",
    "taking care of the many details invovled in creating publication-quality graphics. It does this by using a set of rules that govern how plots are built, the foundation is always the raw data, upon which you add layers of annotations and statistical summaries. "
   ]
  },
  {
   "cell_type": "code",
   "execution_count": null,
   "metadata": {
    "collapsed": true
   },
   "outputs": [],
   "source": [
    "All ggplots have the following components:\n",
    "  \n",
    "1. Data\n",
    "2. Aesthetics = visual attributes of the data points\n",
    "3. Geometric objects = the type of plot\n",
    "4. Statistical transformations\n",
    "5. Scales = controls how the data are mapped to the aesthetics\n",
    "6. Coordinate system = describes the space in which the data is projected.\n",
    "7. Facets = the display of subsetted data"
   ]
  },
  {
   "cell_type": "code",
   "execution_count": null,
   "metadata": {
    "collapsed": true
   },
   "outputs": [],
   "source": [
    "Only the first three need to be explicity defined when creating a ggplot, the rest are controlled by by a heirarchy of defaults. A key distinction between base graphics and ggplot2 graphics is that once a plot is constructed you can modify existing content. \n"
   ]
  }
 ],
 "metadata": {
  "kernelspec": {
   "display_name": "R 3.4",
   "language": "R",
   "name": "ir34"
  },
  "language_info": {
   "codemirror_mode": "r",
   "file_extension": ".r",
   "mimetype": "text/x-r-source",
   "name": "R",
   "pygments_lexer": "r",
   "version": "3.4.1"
  }
 },
 "nbformat": 4,
 "nbformat_minor": 1
}
