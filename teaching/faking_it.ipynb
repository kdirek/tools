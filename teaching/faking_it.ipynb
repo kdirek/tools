{
 "cells": [
  {
   "cell_type": "markdown",
   "metadata": {},
   "source": [
    "# fake external data"
   ]
  },
  {
   "cell_type": "code",
   "execution_count": 5,
   "metadata": {},
   "outputs": [],
   "source": [
    "patid = seq(1000, by = 1, length.out = 10) \n",
    "eventdate = seq(from = Sys.Date()-365, to = Sys.Date(), length.out = 10)\n",
    "ht = c(1,0,1,0,1,0,0,0,0,0)"
   ]
  },
  {
   "cell_type": "code",
   "execution_count": 7,
   "metadata": {},
   "outputs": [],
   "source": [
    "# csv file\n",
    "write.csv(cbind(patid, eventdate=as.character(eventdate), ht),\n",
    "         file = \"test.csv\")"
   ]
  },
  {
   "cell_type": "code",
   "execution_count": null,
   "metadata": {},
   "outputs": [],
   "source": [
    "# excel workbook\n",
    "\n",
    "\n",
    "xlsx::write.xlsx(x = cbind(patid, eventdate=as.character(eventdate), ht), \n",
    "           file = \"test_excelfile.xlsx\",\n",
    "           sheetName = \"wb_test\", row.names = FALSE)"
   ]
  },
  {
   "cell_type": "code",
   "execution_count": null,
   "metadata": {},
   "outputs": [],
   "source": [
    "# big csv file\n"
   ]
  },
  {
   "cell_type": "code",
   "execution_count": null,
   "metadata": {
    "collapsed": true
   },
   "outputs": [],
   "source": []
  }
 ],
 "metadata": {
  "kernelspec": {
   "display_name": "R",
   "language": "R",
   "name": "ir"
  },
  "language_info": {
   "codemirror_mode": "r",
   "file_extension": ".r",
   "mimetype": "text/x-r-source",
   "name": "R",
   "pygments_lexer": "r",
   "version": "3.2.3"
  }
 },
 "nbformat": 4,
 "nbformat_minor": 2
}
