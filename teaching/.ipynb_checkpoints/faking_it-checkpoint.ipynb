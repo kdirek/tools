{
 "cells": [
  {
   "cell_type": "markdown",
   "metadata": {},
   "source": [
    "# fake external data"
   ]
  },
  {
   "cell_type": "code",
   "execution_count": null,
   "metadata": {
    "collapsed": false
   },
   "outputs": [],
   "source": [
    "patid = seq(1000, by = 1, length.out = 10) \n",
    "startdate = seq(from = Sys.Date()-365, to = Sys.Date(), length.out = 10)\n",
    "enddate = startdate + sample.int(c(0,365), replace = TRUE)\n",
    "ht = c(1,0,1,0,1,0,0,0,0,0)"
   ]
  },
  {
   "cell_type": "code",
   "execution_count": null,
   "metadata": {
    "collapsed": false
   },
   "outputs": [],
   "source": [
    "# csv file\n",
    "write.csv(cbind(patid, \n",
    "                startdate=as.character(startdate), \n",
    "                enddate=as.character(enddate),\n",
    "                ht),\n",
    "         file = \"test.csv\")"
   ]
  },
  {
   "cell_type": "code",
   "execution_count": null,
   "metadata": {
    "collapsed": false
   },
   "outputs": [],
   "source": [
    "# excel workbook\n",
    "xlsx::write.xlsx(x = cbind(patid, \n",
    "                           startdate=as.character(startdate),\n",
    "                           enddate=as.character(enddate),\n",
    "                           ht),\n",
    "           file = \"test_excelfile.xlsx\",\n",
    "           sheetName = \"wb_test\", row.names = FALSE)"
   ]
  },
  {
   "cell_type": "code",
   "execution_count": null,
   "metadata": {
    "collapsed": false
   },
   "outputs": [],
   "source": [
    "# big csv file\n",
    "patid = seq(1000, by = 1, length.out = 1e6) \n",
    "startdate = seq(from = Sys.Date()-365, to = Sys.Date(), length.out = 1)\n",
    "enddate = startdate + sample.int(c(0,365), replace = TRUE)\n",
    "set.seed(1)\n",
    "ht = sample(c(0, 1), size = 1e6, replace = T)\n",
    "\n",
    "write.csv(cbind(patid, eventdate=as.character(eventdate), ht),\n",
    "         file = \"test_big.csv\")"
   ]
  },
  {
   "cell_type": "code",
   "execution_count": null,
   "metadata": {
    "collapsed": true
   },
   "outputs": [],
   "source": []
  }
 ],
 "metadata": {
  "anaconda-cloud": {},
  "kernelspec": {
   "display_name": "R",
   "language": "R",
   "name": "ir"
  },
  "language_info": {
   "codemirror_mode": "r",
   "file_extension": ".r",
   "mimetype": "text/x-r-source",
   "name": "R",
   "pygments_lexer": "r",
   "version": "3.4.1"
  }
 },
 "nbformat": 4,
 "nbformat_minor": 2
}
