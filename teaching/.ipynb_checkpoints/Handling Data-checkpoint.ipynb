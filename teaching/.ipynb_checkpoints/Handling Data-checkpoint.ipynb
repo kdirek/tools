{
 "cells": [
  {
   "cell_type": "markdown",
   "metadata": {},
   "source": [
    "\n",
    "# *Handling Data*\n"
   ]
  },
  {
   "cell_type": "markdown",
   "metadata": {},
   "source": [
    "Once you've read your data into R, you want to look at it in different ways to understand what you have. In this example, we will read in patient data and perform some basic data quality tasks and go through ways we can format the data. Although most of the examples that follow use small datasets, we will mainly use the syntax from the \"data.table\" package because it is very fast for large datasets."
   ]
  },
  {
   "cell_type": "code",
   "execution_count": null,
   "metadata": {
    "collapsed": true
   },
   "outputs": [],
   "source": [
    "library(data.table)\n",
    "patients <- fread(\"big_file.csv\")\n",
    "patients \n",
    "# nb. data.table by default will show the first and last 5 rows of the dataset "
   ]
  },
  {
   "cell_type": "markdown",
   "metadata": {},
   "source": [
    "There are two obvious issues here, the first is missing  values for the \"ethnicity\" column and the second is non-existent dates (\"0000-00-00\"). We can fix these by extending what R considers a missing value when it reads the file in. To do this we supply additional values in the \"na.strings\" component of the command to read in the data:"
   ]
  },
  {
   "cell_type": "code",
   "execution_count": null,
   "metadata": {
    "collapsed": true
   },
   "outputs": [],
   "source": [
    "patients <- fread(\n",
    "                input=\"../Datasets/PATIENTS.csv\", \n",
    "                na.strings = c(\"\", \" \", \"0000-00-00\"))"
   ]
  },
  {
   "cell_type": "markdown",
   "metadata": {},
   "source": [
    "Here we are telling R to assign an NA (missing) value whereever it finds no value (\"\"), a single space (\" \"), or impossible dates (\"0000-00-00\")"
   ]
  },
  {
   "cell_type": "markdown",
   "metadata": {},
   "source": [
    "Normally the first question you want to ask is how is my data interpretted by R, to do this we can look at the class of each column:"
   ]
  },
  {
   "cell_type": "code",
   "execution_count": null,
   "metadata": {
    "collapsed": true
   },
   "outputs": [],
   "source": [
    "sapply(patients, class)"
   ]
  },
  {
   "cell_type": "markdown",
   "metadata": {},
   "source": [
    "The first four columns (\"pracid\", \"patid\", \"birthyear\") are all intergers as we might have expected from the column names. But we have a problem with the date columns because R they are of little use to use in a character string format. The fix is to convert them from character into the date storage type, fortunately this is very easy to do but first we will cover the basics of how R handles dates and times"
   ]
  },
  {
   "cell_type": "markdown",
   "metadata": {},
   "source": [
    "\n",
    "## *Dates and Times*\n"
   ]
  },
  {
   "cell_type": "markdown",
   "metadata": {},
   "source": [
    "Dates and times are complicated by months of different lengths, daylight saving, timezones, and leap years. An important part of analysing health records is good command of dates and times, we start from the absolute basics by asking R for the time like so:"
   ]
  },
  {
   "cell_type": "code",
   "execution_count": 1,
   "metadata": {},
   "outputs": [
    {
     "data": {
      "text/plain": [
       "[1] \"2017-11-29 16:55:30 GMT\""
      ]
     },
     "metadata": {},
     "output_type": "display_data"
    }
   ],
   "source": [
    "Sys.time()"
   ]
  },
  {
   "cell_type": "markdown",
   "metadata": {},
   "source": [
    "From left to right we are given the date as year, month, day; the time (24-hour clock) as hour, minute, second; and finally the timezone. Both the user and R understand this representation but in order to use it in calculations we need a numeric form. The industry standard used by nearly all systems is the POSIX  (Portable Operating System Interface) system, it stores dates and times as the number of seconds ellapsed from midnight on 1st January 1970."
   ]
  },
  {
   "cell_type": "markdown",
   "metadata": {},
   "source": [
    "To show the number of seconds between 1st January 1970 and today, just use the as.numeric function:"
   ]
  },
  {
   "cell_type": "code",
   "execution_count": 2,
   "metadata": {},
   "outputs": [
    {
     "data": {
      "text/html": [
       "1511974549.07287"
      ],
      "text/latex": [
       "1511974549.07287"
      ],
      "text/markdown": [
       "1511974549.07287"
      ],
      "text/plain": [
       "[1] 1511974549"
      ]
     },
     "metadata": {},
     "output_type": "display_data"
    }
   ],
   "source": [
    "as.numeric(Sys.time())"
   ]
  },
  {
   "cell_type": "markdown",
   "metadata": {},
   "source": [
    "It should now be clear the first thing we need to do with the date columns is to convert them into the form R understands. We do this by using the as.Date function, the function will accept a character string representation of the date and requires us to tell it how the date is formatted, for example:"
   ]
  },
  {
   "cell_type": "code",
   "execution_count": 3,
   "metadata": {},
   "outputs": [
    {
     "data": {
      "text/html": [
       "<time datetime=\"2016-04-14\">2016-04-14</time>"
      ],
      "text/latex": [
       "2016-04-14"
      ],
      "text/markdown": [
       "2016-04-14"
      ],
      "text/plain": [
       "[1] \"2016-04-14\""
      ]
     },
     "metadata": {},
     "output_type": "display_data"
    }
   ],
   "source": [
    "as.Date(\"14/4/2016\", \"%d/%m/%Y\")"
   ]
  },
  {
   "cell_type": "markdown",
   "metadata": {},
   "source": [
    "We use conversion specifications ('%') to seperate each component of the date, here into day ('d'), month ('m'), and year ('Y). Left blank the function will use the default of '%Y-%m-%d %H:%M:%S', which in our case, would not be correct. We can accept dates in any format thanks to this flexibility and there is an extensive catalogue of representations to please any taste, some examples are given below:"
   ]
  },
  {
   "cell_type": "markdown",
   "metadata": {},
   "source": [
    "\n",
    "Conversion | Description\n",
    "------------- | -------------\n",
    "%A\t|\tFull weekday name\n",
    "%B\t|\tFull month name\n",
    "%d\t|\tDay of the month as decimal number (01–31)\n",
    "%m\t|\tMonth as decimal number (0–11)\n",
    "%U\t|\tWeek of the year (00–53) using the first Sunday as day 1 of week 1\n",
    "%H\t|\tHours as decimal number (00–23) on the 24-hour clock\n",
    "%I\t|\tHours as decimal number (01–12) on the 12-hour clock\n",
    "%M\t|\tMinute as decimal number (00–59)\n",
    "%S\t|\tSecond as decimal number (00–61, allowing for two ‘leap seconds’)\n",
    "%T\t|\tEquivalent to %H:%M:%S."
   ]
  },
  {
   "cell_type": "markdown",
   "metadata": {},
   "source": [
    "Going back to our example dataset, we convert date column from character into a date storage type."
   ]
  },
  {
   "cell_type": "code",
   "execution_count": null,
   "metadata": {
    "collapsed": true
   },
   "outputs": [],
   "source": [
    "patients[,first_reg_date := as.Date(first_reg_date, '%Y-%m-%d')]"
   ]
  },
  {
   "cell_type": "markdown",
   "metadata": {},
   "source": [
    "Here we overwrite the \"first_reg date\", this is ok if you are sure of the conversion but when you first start out it is better to create a new column."
   ]
  },
  {
   "cell_type": "code",
   "execution_count": null,
   "metadata": {
    "collapsed": true
   },
   "outputs": [],
   "source": [
    "patients[,first_reg_date_2 := as.Date(first_reg_date, '%Y-%m-%d')]"
   ]
  },
  {
   "cell_type": "markdown",
   "metadata": {},
   "source": [
    "Once you are statisified with the conversion, you can delete the original column and rename the new column"
   ]
  },
  {
   "cell_type": "code",
   "execution_count": null,
   "metadata": {
    "collapsed": true
   },
   "outputs": [],
   "source": [
    "patients[,first_reg_date := NULL] # assigning \"NULL\" to the column deletes the column\n",
    "setnames(patients, old = \"first_reg_date_2\", new = \"first_reg_date\") \n",
    "# we can omit the \"old/new = \" part but included for clarity"
   ]
  },
  {
   "cell_type": "markdown",
   "metadata": {},
   "source": [
    "To do this for several columns will become laborious. What we want to be able to do is tell R to convert all the columns that store dates as character strings into a date class. We will do this by using two new concepts - regular expressions and functions:"
   ]
  },
  {
   "cell_type": "code",
   "execution_count": null,
   "metadata": {
    "collapsed": true
   },
   "outputs": [],
   "source": [
    "patients[,(grep(\"date\", colnames(patients))) := \n",
    "           lapply(.SD, function(x) as.Date(x, '%Y-%m-%d')),.SDcols=grep(\"date\", colnames(patients))]"
   ]
  },
  {
   "cell_type": "markdown",
   "metadata": {},
   "source": [
    "Why do we invest so much time in getting dates into the correct storage type. The simple answer is to use them in calculations. Take the following example from hospital episode statistics:"
   ]
  },
  {
   "cell_type": "code",
   "execution_count": null,
   "metadata": {
    "collapsed": true
   },
   "outputs": [],
   "source": [
    "hes <- fread(input=\"../Datasets/HES_EPISODES.csv\")\n",
    "hes \n",
    "sapply(hes, class)"
   ]
  },
  {
   "cell_type": "markdown",
   "metadata": {},
   "source": [
    "Convert the start and end dates of the episode:"
   ]
  },
  {
   "cell_type": "code",
   "execution_count": null,
   "metadata": {
    "collapsed": true
   },
   "outputs": [],
   "source": [
    "hes[,(grep(\"start$|end$\", colnames(hes))) := \n",
    "           lapply(.SD, function(x) as.Date(x, '%Y-%m-%d')),.SDcols=grep(\"start$|end$\", colnames(hes))]"
   ]
  },
  {
   "cell_type": "code",
   "execution_count": null,
   "metadata": {
    "collapsed": true
   },
   "outputs": [],
   "source": [
    "hes[, LoS := epiend - epistart]"
   ]
  },
  {
   "cell_type": "markdown",
   "metadata": {},
   "source": [
    "\n",
    "## *Text manipulation*\n"
   ]
  },
  {
   "cell_type": "markdown",
   "metadata": {},
   "source": [
    "Medical diagnasoses and procedures provide an excellent example of handling non-numeric values in analysing\n",
    "electronic healthcare records. Most if not all diagnoses and procedures are represented by a specific ICD-10 \n",
    "code, these can be between three and seven characters long in a combination of numbers and characters."
   ]
  },
  {
   "cell_type": "markdown",
   "metadata": {},
   "source": [
    "All ICD-10 start with a letter followed by two numbers, this identifies the category of the code, for example\n",
    "there are over 1,200 codes that relate to diseases of the circulatory system. The next three positions\n",
    "tell us about the cause, site, and severity. For some codes there is a seventh positions that provides \n",
    "information of the type of encounter, i.e. first or subsequent for a particular issue."
   ]
  },
  {
   "cell_type": "markdown",
   "metadata": {},
   "source": [
    "Because of this combination of text and numbers (alphanumeric) it will be treated as a factor or character depending on the package you use. We have seen\n",
    "how factors can be converted into character strings earlier so will start this section by exploring a simple\n",
    "character string."
   ]
  },
  {
   "cell_type": "code",
   "execution_count": null,
   "metadata": {
    "collapsed": true
   },
   "outputs": [],
   "source": [
    "icd10 <- read.delim(\"../Datasets/icd10cm_order_2016.txt\", head = T, stringsAsFactors = F)\n",
    "cholera <- icd10$Description[1:4]\n",
    "cholera"
   ]
  },
  {
   "cell_type": "markdown",
   "metadata": {},
   "source": [
    "Here we have created a character vector by selecting the first four values of the description column \n",
    "but if we didn't know how many values are in a character vector, we can use the length function to find \n",
    "out; one example where you would use this is to count the number of GPs by CCG."
   ]
  },
  {
   "cell_type": "code",
   "execution_count": null,
   "metadata": {
    "collapsed": true
   },
   "outputs": [],
   "source": [
    "length(cholera)"
   ]
  },
  {
   "cell_type": "markdown",
   "metadata": {},
   "source": [
    "To count the number of characters in each element of the vector we use the nchar function, returning\n",
    "a value for each element of the vector:"
   ]
  },
  {
   "cell_type": "code",
   "execution_count": null,
   "metadata": {
    "collapsed": true
   },
   "outputs": [],
   "source": [
    "nchar(cholera)"
   ]
  },
  {
   "cell_type": "markdown",
   "metadata": {},
   "source": [
    "This is handy when what you want to do depends on the length of the output. Say we wanted to know how\n",
    "many ICD10 codes have only three characters, i.e. codes that are not further specified beyond category\n",
    "of the condition, we can count the number of such conditions contained within our dataset."
   ]
  },
  {
   "cell_type": "code",
   "execution_count": null,
   "metadata": {
    "collapsed": true
   },
   "outputs": [],
   "source": [
    "length(nchar(icd10$Code) == 3)"
   ]
  },
  {
   "cell_type": "markdown",
   "metadata": {},
   "source": [
    "What if we wanted to know how many subdivision of a particular category exist? We know the first three\n",
    "character identify the category so we could use this to extract the information. If we take a single\n",
    "character string as an example, we can use the substring function (substr):"
   ]
  },
  {
   "cell_type": "code",
   "execution_count": 4,
   "metadata": {},
   "outputs": [
    {
     "data": {
      "text/html": [
       "'H40'"
      ],
      "text/latex": [
       "'H40'"
      ],
      "text/markdown": [
       "'H40'"
      ],
      "text/plain": [
       "[1] \"H40\""
      ]
     },
     "metadata": {},
     "output_type": "display_data"
    }
   ],
   "source": [
    "substr(\"H4010X0\", 1, 3)"
   ]
  },
  {
   "cell_type": "markdown",
   "metadata": {},
   "source": [
    "The function takes your character string or vector as the first arguement and and selects all \n",
    "characters between the second (start) and third (end) arguements. In this case it returns a string \n",
    "containing the characters betweens 1st and 3rd positions of the string. We can use this to create a \n",
    "new variable and count the number of ICD-10 categories:"
   ]
  },
  {
   "cell_type": "code",
   "execution_count": null,
   "metadata": {
    "collapsed": true
   },
   "outputs": [],
   "source": [
    "icd10 <- cbind(icd10, Category = substr(icd10$Code, 1,3))\n",
    "length(unique(icd10$Category))"
   ]
  },
  {
   "cell_type": "markdown",
   "metadata": {},
   "source": [
    "A closely related function is 'substring', whereby you specify just the start position and it returns a string\n",
    "from that position to the end of string by default. But of course you can use either function to get\n",
    "the same result:"
   ]
  },
  {
   "cell_type": "code",
   "execution_count": 5,
   "metadata": {},
   "outputs": [
    {
     "data": {
      "text/html": [
       "'4010X0'"
      ],
      "text/latex": [
       "'4010X0'"
      ],
      "text/markdown": [
       "'4010X0'"
      ],
      "text/plain": [
       "[1] \"4010X0\""
      ]
     },
     "metadata": {},
     "output_type": "display_data"
    }
   ],
   "source": [
    "substring(\"H4010X0\", 2)"
   ]
  },
  {
   "cell_type": "code",
   "execution_count": 6,
   "metadata": {},
   "outputs": [
    {
     "data": {
      "text/html": [
       "'H40'"
      ],
      "text/latex": [
       "'H40'"
      ],
      "text/markdown": [
       "'H40'"
      ],
      "text/plain": [
       "[1] \"H40\""
      ]
     },
     "metadata": {},
     "output_type": "display_data"
    }
   ],
   "source": [
    "substring(\"H4010X0\", 1,3)"
   ]
  },
  {
   "cell_type": "code",
   "execution_count": 7,
   "metadata": {},
   "outputs": [
    {
     "data": {
      "text/html": [
       "'H40'"
      ],
      "text/latex": [
       "'H40'"
      ],
      "text/markdown": [
       "'H40'"
      ],
      "text/plain": [
       "[1] \"H40\""
      ]
     },
     "metadata": {},
     "output_type": "display_data"
    }
   ],
   "source": [
    "substr(\"H4010X0\", 1,3)"
   ]
  }
 ],
 "metadata": {
  "anaconda-cloud": {},
  "kernelspec": {
   "display_name": "R",
   "language": "R",
   "name": "ir"
  },
  "language_info": {
   "codemirror_mode": "r",
   "file_extension": ".r",
   "mimetype": "text/x-r-source",
   "name": "R",
   "pygments_lexer": "r",
   "version": "3.2.3"
  }
 },
 "nbformat": 4,
 "nbformat_minor": 1
}
