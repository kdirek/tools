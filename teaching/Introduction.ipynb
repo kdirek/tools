{
 "cells": [
  {
   "cell_type": "markdown",
   "metadata": {},
   "source": [
    "\n",
    "# Introduction to R\n"
   ]
  },
  {
   "cell_type": "markdown",
   "metadata": {},
   "source": [
    "R is a open-source programming language for statistical computing 1; it is derived from another programming language - S, which was developed in 1976 at the world-renowned Bell laboratories.  "
   ]
  },
  {
   "cell_type": "markdown",
   "metadata": {},
   "source": [
    "R's ability to implement a wide and constantly expanding catalogue of statistical models differs from other statistical programmes in that it allows users to write and compile their own mathematical functions, or suite of functions known as packages."
   ]
  },
  {
   "cell_type": "markdown",
   "metadata": {},
   "source": [
    "Packages can be submitted to the core team, who perform checks on the integrity and functionality of user submitted packages, those that pass this quality control stage are stored in the Comprehensive R Archive Network (CRAN) repository -  a global network of FTP mirror sites, totalling  104 sites in 49 countries. "
   ]
  },
  {
   "cell_type": "markdown",
   "metadata": {},
   "source": [
    "In the United Kingdom, five academic institutions host the CRAN:\n",
    "\n",
    "1.\tSchool of Mathematics, University of Bristol\n",
    "2.\tEuropean Bioinformatics Institute, Wellcome Trust Genome Campus\n",
    "3.\tDepartment of Mathematics, Imperial College London\n",
    "4.\tComputer Science Department, Middlesex University London\n",
    "5.\tSchool of Physics and Astronomy, University of St Andrews"
   ]
  },
  {
   "cell_type": "markdown",
   "metadata": {},
   "source": [
    "There are currently 6,367 packages available in CRAN, in addition various other repositories have been created for specific applications, for example, the Bioconductor  project2 contains 934 packages for the analysis of genomic data. R's popularity in academia has extended into large-scale corporate business and government agencies because it provides the latest tools available for data analysis at zero cost."
   ]
  },
  {
   "cell_type": "markdown",
   "metadata": {},
   "source": [
    "Why use it?  \n",
    "* Free  \n",
    "* Well developed and effective programming language  \n",
    "* Powerful suite of tools that is well-documented  \n",
    "* Good online support  \n",
    "* It comes in a variety of forms - available for all major operating systems and can be run on desktops and high performance computing clusters"
   ]
  },
  {
   "cell_type": "markdown",
   "metadata": {},
   "source": [
    "\n",
    "## *Basic Operations*\n"
   ]
  },
  {
   "cell_type": "markdown",
   "metadata": {},
   "source": [
    "At the most basic level you can use it as a calculator:"
   ]
  },
  {
   "cell_type": "code",
   "execution_count": 2,
   "metadata": {
    "collapsed": false
   },
   "outputs": [
    {
     "data": {
      "text/html": [
       "3"
      ],
      "text/latex": [
       "3"
      ],
      "text/markdown": [
       "3"
      ],
      "text/plain": [
       "[1] 3"
      ]
     },
     "metadata": {},
     "output_type": "display_data"
    }
   ],
   "source": [
    "1 + 2"
   ]
  },
  {
   "cell_type": "markdown",
   "metadata": {},
   "source": [
    "It allows you to assign a value to a named data structure (object):"
   ]
  },
  {
   "cell_type": "code",
   "execution_count": 3,
   "metadata": {
    "collapsed": false
   },
   "outputs": [
    {
     "data": {
      "text/html": [
       "3"
      ],
      "text/latex": [
       "3"
      ],
      "text/markdown": [
       "3"
      ],
      "text/plain": [
       "[1] 3"
      ]
     },
     "metadata": {},
     "output_type": "display_data"
    }
   ],
   "source": [
    "a <- 1\n",
    "b <- 2\n",
    "a + b"
   ]
  },
  {
   "cell_type": "markdown",
   "metadata": {},
   "source": [
    "You can assign a number of values (a vector) to an object:"
   ]
  },
  {
   "cell_type": "code",
   "execution_count": 4,
   "metadata": {
    "collapsed": false
   },
   "outputs": [
    {
     "data": {
      "text/html": [
       "<ol class=list-inline>\n",
       "\t<li>1</li>\n",
       "\t<li>20</li>\n",
       "\t<li>300</li>\n",
       "\t<li>4000</li>\n",
       "\t<li>50000</li>\n",
       "</ol>\n"
      ],
      "text/latex": [
       "\\begin{enumerate*}\n",
       "\\item 1\n",
       "\\item 20\n",
       "\\item 300\n",
       "\\item 4000\n",
       "\\item 50000\n",
       "\\end{enumerate*}\n"
      ],
      "text/markdown": [
       "1. 1\n",
       "2. 20\n",
       "3. 300\n",
       "4. 4000\n",
       "5. 50000\n",
       "\n",
       "\n"
      ],
      "text/plain": [
       "[1]     1    20   300  4000 50000"
      ]
     },
     "metadata": {},
     "output_type": "display_data"
    }
   ],
   "source": [
    "a <- c(1,2,3,4,5)\n",
    "b <- c(1, 1e1, 1e2, 1e3, 1e4)\n",
    "a * b"
   ]
  },
  {
   "cell_type": "markdown",
   "metadata": {},
   "source": [
    "Instead of numbers, you can supply characters to objects:"
   ]
  },
  {
   "cell_type": "code",
   "execution_count": 5,
   "metadata": {
    "collapsed": false
   },
   "outputs": [
    {
     "data": {
      "text/html": [
       "<ol class=list-inline>\n",
       "\t<li>'Homer Simpson'</li>\n",
       "\t<li>'Peter Griffin'</li>\n",
       "\t<li>'Francine Smith'</li>\n",
       "</ol>\n"
      ],
      "text/latex": [
       "\\begin{enumerate*}\n",
       "\\item 'Homer Simpson'\n",
       "\\item 'Peter Griffin'\n",
       "\\item 'Francine Smith'\n",
       "\\end{enumerate*}\n"
      ],
      "text/markdown": [
       "1. 'Homer Simpson'\n",
       "2. 'Peter Griffin'\n",
       "3. 'Francine Smith'\n",
       "\n",
       "\n"
      ],
      "text/plain": [
       "[1] \"Homer Simpson\"  \"Peter Griffin\"  \"Francine Smith\""
      ]
     },
     "metadata": {},
     "output_type": "display_data"
    }
   ],
   "source": [
    "first.name <- c(\"Homer\", \"Peter\", \"Francine\")\n",
    "last.name <- c(\"Simpson\", \"Griffin\", \"Smith\")\n",
    "paste(first.name, last.name, sep = \" \")"
   ]
  },
  {
   "cell_type": "markdown",
   "metadata": {},
   "source": [
    "\n",
    "## *Moving Around*\n"
   ]
  },
  {
   "cell_type": "markdown",
   "metadata": {},
   "source": [
    "An important concept to grasp if you are new to programming is the working directory. As its name suggests, it is the directory (think folder) where you store files to be analysed and can save objects you created in R.\n"
   ]
  },
  {
   "cell_type": "markdown",
   "metadata": {},
   "source": [
    "Our first example used the paste function to combine two character vectors (first and last names), \n",
    "we can also use this function to move around folders from within R. This because especially useful \n",
    "if you want your script to write output to be written in particular folders, e.g. by gender or \n",
    "ethnicity."
   ]
  },
  {
   "cell_type": "markdown",
   "metadata": {},
   "source": [
    "When you first open R the default working directory is normally the folder where the R library is saved. You can find out by typing:"
   ]
  },
  {
   "cell_type": "code",
   "execution_count": 7,
   "metadata": {
    "collapsed": false
   },
   "outputs": [
    {
     "data": {
      "text/html": [
       "'C:/Users/ucbtkdi'"
      ],
      "text/latex": [
       "'C:/Users/ucbtkdi'"
      ],
      "text/markdown": [
       "'C:/Users/ucbtkdi'"
      ],
      "text/plain": [
       "[1] \"C:/Users/ucbtkdi\""
      ]
     },
     "metadata": {},
     "output_type": "display_data"
    }
   ],
   "source": [
    "getwd()"
   ]
  },
  {
   "cell_type": "markdown",
   "metadata": {},
   "source": [
    "Normally the files you want to analyse are not the default folder. This is not just good practice organising your data but also you may find the data is on a restricted location, e.g. a network drive, and cannot move the data for security reasons. You can set the working directory at any time during your R session, simply tell R where you want the working directory to be:"
   ]
  },
  {
   "cell_type": "code",
   "execution_count": 9,
   "metadata": {
    "collapsed": false
   },
   "outputs": [],
   "source": [
    "setwd(\"C:/Users/ucbtkdi/temp\")"
   ]
  },
  {
   "cell_type": "code",
   "execution_count": 10,
   "metadata": {
    "collapsed": false
   },
   "outputs": [
    {
     "data": {
      "text/html": [
       "'C:/Users/ucbtkdi/temp'"
      ],
      "text/latex": [
       "'C:/Users/ucbtkdi/temp'"
      ],
      "text/markdown": [
       "'C:/Users/ucbtkdi/temp'"
      ],
      "text/plain": [
       "[1] \"C:/Users/ucbtkdi/temp\""
      ]
     },
     "metadata": {},
     "output_type": "display_data"
    }
   ],
   "source": [
    "getwd()"
   ]
  },
  {
   "cell_type": "markdown",
   "metadata": {},
   "source": [
    "\n",
    "## *Data Storage Types*\n"
   ]
  },
  {
   "cell_type": "markdown",
   "metadata": {},
   "source": [
    "R stores data in a form that it thinks is most appropriate, there are several types it can select from:  \n"
   ]
  },
  {
   "cell_type": "markdown",
   "metadata": {},
   "source": [
    "* logical - TRUE/FALSE  \n",
    "* numeric\n",
    "    + integer - 1,2,3,4,5  \n",
    "    + single/double precision - 32 and 64 bit precision  \n",
    "    + complex - 1 + 0i\n",
    "* character - \"hello\"\n",
    "* symbol - the name of an object"
   ]
  },
  {
   "cell_type": "markdown",
   "metadata": {},
   "source": [
    "\n",
    "## *Getting Data into R*\n"
   ]
  },
  {
   "cell_type": "markdown",
   "metadata": {},
   "source": [
    "You will normally get data into R from external files or locations, for example,\n"
   ]
  },
  {
   "cell_type": "code",
   "execution_count": null,
   "metadata": {
    "collapsed": false
   },
   "outputs": [],
   "source": [
    "data1 <- read.table(\"files/file_1.csv\", head = T, sep = \",\")"
   ]
  },
  {
   "cell_type": "markdown",
   "metadata": {},
   "source": [
    "The function \"read.table\" is one of several related functions in R that allows you to read in data. Others are read.csv and read.delim for comma and tab seperated files. All accept a predefined list of options that you can specify, to understand more about the function you can use R's in-built help system:"
   ]
  },
  {
   "cell_type": "code",
   "execution_count": 15,
   "metadata": {
    "collapsed": false
   },
   "outputs": [],
   "source": [
    "help(\"read.table\")"
   ]
  },
  {
   "cell_type": "markdown",
   "metadata": {},
   "source": [
    "One of the options with read.table is to select the value that seperates columns in your dataset. If you are reading in comma seperated value (csv) files, use the read.csv function as it save you some typing."
   ]
  },
  {
   "cell_type": "markdown",
   "metadata": {},
   "source": [
    "If you are given data in a workbook (.xls/x), you will need to call on function from a package (called \"xlsx\")."
   ]
  },
  {
   "cell_type": "code",
   "execution_count": null,
   "metadata": {
    "collapsed": true
   },
   "outputs": [],
   "source": [
    "library(\"xlsx\")\n",
    "data.xlsx <- read.xlsx(file = \"workbook.xlsx\", sheetIndex = 1)"
   ]
  },
  {
   "cell_type": "markdown",
   "metadata": {},
   "source": [
    "To read in large files efficiently, another specialised function must be\n",
    "called this time from the \"data.table\" package.    "
   ]
  },
  {
   "cell_type": "code",
   "execution_count": null,
   "metadata": {
    "collapsed": true
   },
   "outputs": [],
   "source": [
    "data <- data.table::fread(\"big_file.csv\")"
   ]
  },
  {
   "cell_type": "markdown",
   "metadata": {},
   "source": [
    "\n",
    "## *Data Structures*\n"
   ]
  },
  {
   "cell_type": "markdown",
   "metadata": {},
   "source": [
    "R normally reads data into structures called data.frames. A data.frame is a very useful object in that it allows you to mix vectors of different types (numeric, character, etc.). It is an organised list of vectors, each column of your dataset in stored as an individual vector. The data.frame is displayed as a 2 dimensional array with rows and columns and can be indexed:"
   ]
  },
  {
   "cell_type": "code",
   "execution_count": null,
   "metadata": {
    "collapsed": true
   },
   "outputs": [],
   "source": [
    "head(data.xlsx) # look at the first 6 rows\n",
    "data.xlsx[1:6,]"
   ]
  },
  {
   "cell_type": "markdown",
   "metadata": {},
   "source": [
    "A related structure is a matrix, again a 2 dimensional array that can be indexed, but all columns must be of the same type. These are particularly useful when storing the output of a statistical analysis. "
   ]
  },
  {
   "cell_type": "code",
   "execution_count": 18,
   "metadata": {
    "collapsed": false
   },
   "outputs": [
    {
     "data": {
      "text/html": [
       "<table>\n",
       "<tbody>\n",
       "\t<tr><td>1</td><td>4</td><td>7</td></tr>\n",
       "\t<tr><td>2</td><td>5</td><td>8</td></tr>\n",
       "\t<tr><td>3</td><td>6</td><td>9</td></tr>\n",
       "</tbody>\n",
       "</table>\n"
      ],
      "text/latex": [
       "\\begin{tabular}{lll}\n",
       "\t 1 & 4 & 7\\\\\n",
       "\t 2 & 5 & 8\\\\\n",
       "\t 3 & 6 & 9\\\\\n",
       "\\end{tabular}\n"
      ],
      "text/markdown": [
       "\n",
       "| 1 | 4 | 7 | \n",
       "| 2 | 5 | 8 | \n",
       "| 3 | 6 | 9 | \n",
       "\n",
       "\n"
      ],
      "text/plain": [
       "     [,1] [,2] [,3]\n",
       "[1,] 1    4    7   \n",
       "[2,] 2    5    8   \n",
       "[3,] 3    6    9   "
      ]
     },
     "metadata": {},
     "output_type": "display_data"
    }
   ],
   "source": [
    "the.matrix <- matrix(c(1:9), nrow = 3, ncol = 3) # put numbers 1-9 into a 3 by 3 matrix\n",
    "the.matrix\n",
    "now.dataframe <- as.data.frame(the.matrix)"
   ]
  },
  {
   "cell_type": "markdown",
   "metadata": {},
   "source": [
    "Can always convert a matrix into a data.frame, to go the other way, the columns of the data.frame must be of the same type.\n"
   ]
  },
  {
   "cell_type": "markdown",
   "metadata": {},
   "source": [
    "A list is an ordered collection of components, these components can be anything, e.g. numbers, strings, data.frames, other lists(!)."
   ]
  },
  {
   "cell_type": "code",
   "execution_count": 19,
   "metadata": {
    "collapsed": false
   },
   "outputs": [
    {
     "data": {
      "text/html": [
       "<dl>\n",
       "\t<dt>$Forename</dt>\n",
       "\t\t<dd><ol class=list-inline>\n",
       "\t<li>'Homer'</li>\n",
       "\t<li>'Peter'</li>\n",
       "\t<li>'Francine'</li>\n",
       "</ol>\n",
       "</dd>\n",
       "\t<dt>$Surname</dt>\n",
       "\t\t<dd><ol class=list-inline>\n",
       "\t<li>'Simpson'</li>\n",
       "\t<li>'Griffin'</li>\n",
       "\t<li>'Smith'</li>\n",
       "</ol>\n",
       "</dd>\n",
       "\t<dt>$`Date of Birth`</dt>\n",
       "\t\t<dd><ol class=list-inline>\n",
       "\t<li>'1950-01-30'</li>\n",
       "\t<li>'1960-05-20'</li>\n",
       "\t<li>'1955-09-10'</li>\n",
       "</ol>\n",
       "</dd>\n",
       "\t<dt>$PracID</dt>\n",
       "\t\t<dd><ol class=list-inline>\n",
       "\t<li>100</li>\n",
       "\t<li>&lt;NA&gt;</li>\n",
       "\t<li>450</li>\n",
       "</ol>\n",
       "</dd>\n",
       "</dl>\n"
      ],
      "text/latex": [
       "\\begin{description}\n",
       "\\item[\\$Forename] \\begin{enumerate*}\n",
       "\\item 'Homer'\n",
       "\\item 'Peter'\n",
       "\\item 'Francine'\n",
       "\\end{enumerate*}\n",
       "\n",
       "\\item[\\$Surname] \\begin{enumerate*}\n",
       "\\item 'Simpson'\n",
       "\\item 'Griffin'\n",
       "\\item 'Smith'\n",
       "\\end{enumerate*}\n",
       "\n",
       "\\item[\\$`Date of Birth`] \\begin{enumerate*}\n",
       "\\item '1950-01-30'\n",
       "\\item '1960-05-20'\n",
       "\\item '1955-09-10'\n",
       "\\end{enumerate*}\n",
       "\n",
       "\\item[\\$PracID] \\begin{enumerate*}\n",
       "\\item 100\n",
       "\\item <NA>\n",
       "\\item 450\n",
       "\\end{enumerate*}\n",
       "\n",
       "\\end{description}\n"
      ],
      "text/markdown": [
       "$Forename\n",
       ":   1. 'Homer'\n",
       "2. 'Peter'\n",
       "3. 'Francine'\n",
       "\n",
       "\n",
       "\n",
       "$Surname\n",
       ":   1. 'Simpson'\n",
       "2. 'Griffin'\n",
       "3. 'Smith'\n",
       "\n",
       "\n",
       "\n",
       "$`Date of Birth`\n",
       ":   1. '1950-01-30'\n",
       "2. '1960-05-20'\n",
       "3. '1955-09-10'\n",
       "\n",
       "\n",
       "\n",
       "$PracID\n",
       ":   1. 100\n",
       "2. &lt;NA&gt;\n",
       "3. 450\n",
       "\n",
       "\n",
       "\n",
       "\n",
       "\n"
      ],
      "text/plain": [
       "$Forename\n",
       "[1] \"Homer\"    \"Peter\"    \"Francine\"\n",
       "\n",
       "$Surname\n",
       "[1] \"Simpson\" \"Griffin\" \"Smith\"  \n",
       "\n",
       "$`Date of Birth`\n",
       "[1] \"1950-01-30\" \"1960-05-20\" \"1955-09-10\"\n",
       "\n",
       "$PracID\n",
       "[1] 100  NA 450\n"
      ]
     },
     "metadata": {},
     "output_type": "display_data"
    }
   ],
   "source": [
    "new.list <- list(Forename = first.name, \n",
    "                 Surname = last.name, \n",
    "                 'Date of Birth' = c(\"1950-01-30\", \"1960-05-20\", \"1955-09-10\"), \n",
    "                 PracID = c(100,NA,450))\n",
    "new.list"
   ]
  },
  {
   "cell_type": "markdown",
   "metadata": {},
   "source": [
    "Lists are a good way of storing many objects without clutering your workspace, for example, say you had 1,000 csv files in a folder and wanted to read them all into R:"
   ]
  },
  {
   "cell_type": "code",
   "execution_count": 20,
   "metadata": {
    "collapsed": true
   },
   "outputs": [],
   "source": [
    "# for(i in 1:1e3){\n",
    "# write.csv(data.frame(patid = sample(1e3, 10), height = sample(150:200, 10), weight = sample(60:120,10)), file = paste0(\"file_\", i, \".csv\"))\n",
    "# }"
   ]
  },
  {
   "cell_type": "code",
   "execution_count": null,
   "metadata": {
    "collapsed": true
   },
   "outputs": [],
   "source": [
    "list.myfilenames <- list.files(getwd(), pattern = \"\\\\.csv$\") # get the names of the files you want\n",
    "list.myfiles <- lapply(setNames(list.myfilenames, make.names(gsub(\"*.csv$\", \"\", list.myfilenames))), read.csv) # read them in\n",
    "lapply(list.myfiles[1:10], head) # check a couple"
   ]
  },
  {
   "cell_type": "markdown",
   "metadata": {},
   "source": [
    "\n",
    "## *Getting Help*\n"
   ]
  },
  {
   "cell_type": "code",
   "execution_count": 21,
   "metadata": {
    "collapsed": true
   },
   "outputs": [],
   "source": [
    "?read.csv\n",
    "help(\"read.csv\")"
   ]
  },
  {
   "cell_type": "markdown",
   "metadata": {},
   "source": [
    "This will do one of several things depending on the operating system and internet connection status; it will open your browser on the GUI version, open a new window within your session if you're not connected to the internet, or if you're working on a server it will print the help file to the command line. The help files usually give an example of the function for you to see how it should work. "
   ]
  },
  {
   "cell_type": "markdown",
   "metadata": {},
   "source": [
    "To see an example of the function in action if it exists, you can use 'example':"
   ]
  },
  {
   "cell_type": "code",
   "execution_count": 22,
   "metadata": {
    "collapsed": false
   },
   "outputs": [
    {
     "name": "stdout",
     "output_type": "stream",
     "text": [
      "\n",
      "summry> summary(attenu, digits = 4) #-> summary.data.frame(...), default precision\n",
      "     event            mag           station         dist       \n",
      " Min.   : 1.00   Min.   :5.000   117    :  5   Min.   :  0.50  \n",
      " 1st Qu.: 9.00   1st Qu.:5.300   1028   :  4   1st Qu.: 11.32  \n",
      " Median :18.00   Median :6.100   113    :  4   Median : 23.40  \n",
      " Mean   :14.74   Mean   :6.084   112    :  3   Mean   : 45.60  \n",
      " 3rd Qu.:20.00   3rd Qu.:6.600   135    :  3   3rd Qu.: 47.55  \n",
      " Max.   :23.00   Max.   :7.700   (Other):147   Max.   :370.00  \n",
      "                                 NA's   : 16                   \n",
      "     accel        \n",
      " Min.   :0.00300  \n",
      " 1st Qu.:0.04425  \n",
      " Median :0.11300  \n",
      " Mean   :0.15422  \n",
      " 3rd Qu.:0.21925  \n",
      " Max.   :0.81000  \n",
      "                  \n",
      "\n",
      "summry> summary(attenu $ station, maxsum = 20) #-> summary.factor(...)\n",
      "    117    1028     113     112     135     475    1030    1083    1093    1095 \n",
      "      5       4       4       3       3       3       2       2       2       2 \n",
      "    111     116    1219    1299     130    1308    1377    1383 (Other)    NA's \n",
      "      2       2       2       2       2       2       2       2     120      16 \n",
      "\n",
      "summry> lst <- unclass(attenu$station) > 20 # logical with NAs\n",
      "\n",
      "summry> ## summary.default() for logicals -- different from *.factor:\n",
      "summry> summary(lst)\n",
      "   Mode   FALSE    TRUE    NA's \n",
      "logical      28     138      16 \n",
      "\n",
      "summry> summary(as.factor(lst))\n",
      "FALSE  TRUE  NA's \n",
      "   28   138    16 \n"
     ]
    }
   ],
   "source": [
    "example(summary)"
   ]
  },
  {
   "cell_type": "code",
   "execution_count": null,
   "metadata": {
    "collapsed": true
   },
   "outputs": [],
   "source": []
  }
 ],
 "metadata": {
  "anaconda-cloud": {},
  "kernelspec": {
   "display_name": "R 3.4",
   "language": "R",
   "name": "ir34"
  },
  "language_info": {
   "codemirror_mode": "r",
   "file_extension": ".r",
   "mimetype": "text/x-r-source",
   "name": "R",
   "pygments_lexer": "r",
   "version": "3.4.1"
  }
 },
 "nbformat": 4,
 "nbformat_minor": 1
}
